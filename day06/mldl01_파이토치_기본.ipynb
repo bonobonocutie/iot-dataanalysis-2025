{
 "cells": [
  {
   "cell_type": "markdown",
   "id": "cd4a73f4",
   "metadata": {},
   "source": [
    "## 파이토치 기본\n",
    "### 파이토치 공식 튜토리얼\n",
    "- https://tutorials.pytorch.kr/\n",
    "\n",
    "### 파이토치 패키지(API)\n",
    "- torch : 메인 네임스페이스. 텐서(기본담위) 등 수학함수 포함. Numpy와 유사한 구조\n",
    "- torch.autograd : 자동미분을 위한 함수들 포함. 컨텍스트 매니저, 기반클래스 포함\n",
    "- torch.nn / torch.nn.functional : neuralnetwork. 신경망 구축위한 데이터 구조, 레이어등이 정의되어 있는 모듈. ReLU 등도 포함\n",
    "- torch.optim : SGD(확률적 경사 하강법) 중심 모델 파라미터 최적화 알고리즘 표함\n",
    "- torch.utils : SGD 반복 연산 시 배치용 유틸리티 함수 포함\n",
    "- "
   ]
  },
  {
   "cell_type": "markdown",
   "id": "4822a927",
   "metadata": {},
   "source": [
    "## 텐서\n",
    "- 파이토치 기본단위\n",
    "    - 1차원 배열 - 벡터\n",
    "    - 2차원 배열 - 행렬(매트릭스)\n",
    "    - 3차원 배열 = 텐서\n",
    "    \n",
    "<img src='../image/ml17.png' width='600'>\n",
    "<img src='../image/ml18.png' width='600'>"
   ]
  },
  {
   "cell_type": "code",
   "execution_count": 6,
   "id": "ad518ecf",
   "metadata": {},
   "outputs": [],
   "source": [
    "import torch\n",
    "import numpy as np"
   ]
  },
  {
   "cell_type": "code",
   "execution_count": 7,
   "id": "0f58812f",
   "metadata": {},
   "outputs": [],
   "source": [
    "t1 = torch.tensor([1.0, 2.0, 3.0])"
   ]
  },
  {
   "cell_type": "code",
   "execution_count": 9,
   "id": "30520363",
   "metadata": {},
   "outputs": [
    {
     "data": {
      "text/plain": [
       "array([1., 2., 3.])"
      ]
     },
     "execution_count": 9,
     "metadata": {},
     "output_type": "execute_result"
    }
   ],
   "source": [
    "n1 = np.array([1.0, 2.0, 3.0])\n",
    "n1"
   ]
  },
  {
   "cell_type": "code",
   "execution_count": 16,
   "id": "36f4a8ab",
   "metadata": {},
   "outputs": [
    {
     "data": {
      "text/plain": [
       "array([[1., 1., 1.],\n",
       "       [1., 1., 1.]])"
      ]
     },
     "execution_count": 16,
     "metadata": {},
     "output_type": "execute_result"
    }
   ],
   "source": [
    "## numpy에서 1, 0으로 초기화 되는\n",
    "n2 = np.ones([2, 3])\n",
    "n2"
   ]
  },
  {
   "cell_type": "code",
   "execution_count": 12,
   "id": "4ce13a4e",
   "metadata": {},
   "outputs": [
    {
     "data": {
      "text/plain": [
       "array([[0., 0., 0.],\n",
       "       [0., 0., 0.]])"
      ]
     },
     "execution_count": 12,
     "metadata": {},
     "output_type": "execute_result"
    }
   ],
   "source": [
    "n3 = np.zeros([2, 3])\n",
    "n3"
   ]
  },
  {
   "cell_type": "code",
   "execution_count": 13,
   "id": "f0d4ae5d",
   "metadata": {},
   "outputs": [
    {
     "data": {
      "text/plain": [
       "tensor([[1., 1., 1.],\n",
       "        [1., 1., 1.]])"
      ]
     },
     "execution_count": 13,
     "metadata": {},
     "output_type": "execute_result"
    }
   ],
   "source": [
    "t2 = torch.ones(2, 3)\n",
    "t2"
   ]
  },
  {
   "cell_type": "code",
   "execution_count": 14,
   "id": "a9e27fa9",
   "metadata": {},
   "outputs": [
    {
     "data": {
      "text/plain": [
       "tensor([[0., 0., 0.],\n",
       "        [0., 0., 0.]])"
      ]
     },
     "execution_count": 14,
     "metadata": {},
     "output_type": "execute_result"
    }
   ],
   "source": [
    "t3 = torch.zeros(2, 3)\n",
    "t3"
   ]
  },
  {
   "cell_type": "code",
   "execution_count": 15,
   "id": "22e65692",
   "metadata": {},
   "outputs": [
    {
     "data": {
      "text/plain": [
       "tensor([[0., 0., 0.],\n",
       "        [0., 0., 0.]], dtype=torch.float64)"
      ]
     },
     "execution_count": 15,
     "metadata": {},
     "output_type": "execute_result"
    }
   ],
   "source": [
    "# numpy로 만든 배열을 텐서로 변환\n",
    "t4 = torch.from_numpy(n3)\n",
    "t4"
   ]
  }
 ],
 "metadata": {
  "kernelspec": {
   "display_name": "mlvenv",
   "language": "python",
   "name": "python3"
  },
  "language_info": {
   "codemirror_mode": {
    "name": "ipython",
    "version": 3
   },
   "file_extension": ".py",
   "mimetype": "text/x-python",
   "name": "python",
   "nbconvert_exporter": "python",
   "pygments_lexer": "ipython3",
   "version": "3.11.9"
  }
 },
 "nbformat": 4,
 "nbformat_minor": 5
}
